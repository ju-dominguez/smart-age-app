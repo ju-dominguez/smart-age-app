{
 "cells": [
  {
   "cell_type": "code",
   "execution_count": 1,
   "metadata": {},
   "outputs": [],
   "source": [
    "import numpy as np\n",
    "from tensorflow.keras.models import load_model\n",
    "from PIL import Image, ImageOps"
   ]
  },
  {
   "cell_type": "code",
   "execution_count": 2,
   "metadata": {},
   "outputs": [],
   "source": [
    "model = load_model('../keras_model.h5', compile=False)\n",
    "labels = [line.strip() for line in open('../labels.txt')]"
   ]
  },
  {
   "cell_type": "code",
   "execution_count": 3,
   "metadata": {},
   "outputs": [],
   "source": [
    "# Example function to predict from an image file path\n",
    "def predict_image(img_path):\n",
    "    image = Image.open(img_path).convert(\"RGB\")\n",
    "    image = ImageOps.fit(image, (224,224), Image.Resampling.LANCZOS)\n",
    "    x = np.asarray(image).astype(np.float32)\n",
    "    x = (x / 127.5) - 1\n",
    "    x = np.expand_dims(x, axis=0)\n",
    "    preds = model.predict(x)\n",
    "    class_idx = np.argmax(preds)\n",
    "    confidence = preds[0][class_idx]\n",
    "    return labels[class_idx], confidence"
   ]
  },
  {
   "cell_type": "code",
   "execution_count": 9,
   "metadata": {},
   "outputs": [
    {
     "name": "stdout",
     "output_type": "stream",
     "text": [
      "1/1 [==============================] - 0s 14ms/step\n",
      "('0 18-20', 0.5450353)\n"
     ]
    }
   ],
   "source": [
    "# Test on sample images\n",
    "print(predict_image('../test_images/IMG_6567.png'))"
   ]
  },
  {
   "cell_type": "code",
   "execution_count": null,
   "metadata": {},
   "outputs": [],
   "source": []
  }
 ],
 "metadata": {
  "kernelspec": {
   "display_name": "venv",
   "language": "python",
   "name": "python3"
  },
  "language_info": {
   "codemirror_mode": {
    "name": "ipython",
    "version": 3
   },
   "file_extension": ".py",
   "mimetype": "text/x-python",
   "name": "python",
   "nbconvert_exporter": "python",
   "pygments_lexer": "ipython3",
   "version": "3.11.7"
  }
 },
 "nbformat": 4,
 "nbformat_minor": 2
}
