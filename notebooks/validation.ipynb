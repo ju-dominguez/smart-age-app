{
 "cells": [
  {
   "cell_type": "code",
   "execution_count": null,
   "metadata": {
    "vscode": {
     "languageId": "plaintext"
    }
   },
   "outputs": [],
   "source": [
    "import numpy as np\n",
    "from tensorflow.keras.models import load_model\n",
    "from PIL import Image, ImageOps"
   ]
  },
  {
   "cell_type": "code",
   "execution_count": null,
   "metadata": {
    "vscode": {
     "languageId": "plaintext"
    }
   },
   "outputs": [],
   "source": [
    "model = load_model('../keras_model.h5', compile=False)\n",
    "labels = [line.strip() for line in open('../labels.txt')]"
   ]
  },
  {
   "cell_type": "code",
   "execution_count": null,
   "metadata": {
    "vscode": {
     "languageId": "plaintext"
    }
   },
   "outputs": [],
   "source": [
    "# Example function to predict from an image file path\n",
    "def predict_image(img_path):\n",
    "    image = Image.open(img_path).convert(\"RGB\")\n",
    "    image = ImageOps.fit(image, (224,224), Image.Resampling.LANCZOS)\n",
    "    x = np.asarray(image).astype(np.float32)\n",
    "    x = (x / 127.5) - 1\n",
    "    x = np.expand_dims(x, axis=0)\n",
    "    preds = model.predict(x)\n",
    "    class_idx = np.argmax(preds)\n",
    "    confidence = preds[0][class_idx]\n",
    "    return labels[class_idx], confidence"
   ]
  },
  {
   "cell_type": "code",
   "execution_count": null,
   "metadata": {
    "vscode": {
     "languageId": "plaintext"
    }
   },
   "outputs": [],
   "source": [
    "# Test on sample images\n",
    "print(predict_image('test_images/IMG_6567.png'))"
   ]
  }
 ],
 "metadata": {
  "language_info": {
   "name": "python"
  }
 },
 "nbformat": 4,
 "nbformat_minor": 2
}
